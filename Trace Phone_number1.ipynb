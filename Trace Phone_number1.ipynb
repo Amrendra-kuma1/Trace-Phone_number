{
 "cells": [
  {
   "cell_type": "markdown",
   "id": "f0667063",
   "metadata": {},
   "source": [
    "# Identify User Location with Phone_number"
   ]
  },
  {
   "cell_type": "code",
   "execution_count": 1,
   "id": "e13e33c0",
   "metadata": {},
   "outputs": [],
   "source": [
    "import phonenumbers\n",
    "from phonenumbers import timezone, geocoder, carrier"
   ]
  },
  {
   "cell_type": "code",
   "execution_count": 4,
   "id": "49a0674f",
   "metadata": {},
   "outputs": [
    {
     "name": "stdout",
     "output_type": "stream",
     "text": [
      "Enter your Phone number. with +__;+917091225041\n",
      "Phone Number: +917091225041\n",
      "Timezone: ('Asia/Calcutta',)\n",
      "Carrier: Airtel\n",
      "Location: India\n"
     ]
    }
   ],
   "source": [
    "number = input(\"Enter your Phone number. with +__;\")\n",
    "phone = phonenumbers.parse(number)\n",
    "\n",
    "\n",
    "\n",
    "#Get timezone information\n",
    "time_zones = timezone.time_zones_for_number(phone)\n",
    "\n",
    "# Get carrier information\n",
    "carrier_name = carrier.name_for_number(phone, \"en\")\n",
    "\n",
    "# Get geographical information\n",
    "location_info = geocoder.description_for_number(phone, \"en\")\n",
    "\n",
    "# Display the information\n",
    "print(\"Phone Number:\", number)\n",
    "print(\"Timezone:\", time_zones)\n",
    "print(\"Carrier:\", carrier_name)\n",
    "print(\"Location:\", location_info)\n",
    "\n"
   ]
  },
  {
   "cell_type": "code",
   "execution_count": null,
   "id": "c71ec094",
   "metadata": {},
   "outputs": [],
   "source": []
  }
 ],
 "metadata": {
  "kernelspec": {
   "display_name": "Python 3 (ipykernel)",
   "language": "python",
   "name": "python3"
  },
  "language_info": {
   "codemirror_mode": {
    "name": "ipython",
    "version": 3
   },
   "file_extension": ".py",
   "mimetype": "text/x-python",
   "name": "python",
   "nbconvert_exporter": "python",
   "pygments_lexer": "ipython3",
   "version": "3.9.18"
  }
 },
 "nbformat": 4,
 "nbformat_minor": 5
}
